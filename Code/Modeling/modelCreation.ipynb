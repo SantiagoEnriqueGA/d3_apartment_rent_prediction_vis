{
 "cells": [
  {
   "cell_type": "code",
   "execution_count": 1,
   "metadata": {},
   "outputs": [],
   "source": [
    "import pandas as pd\n",
    "import numpy as np\n",
    "from sklearn.linear_model import LinearRegression\n",
    "from sklearn.model_selection import train_test_split, GridSearchCV, RandomizedSearchCV\n",
    "from sklearn.metrics import r2_score\n",
    "import xgboost as xgb\n",
    "from scipy.stats import uniform, randint"
   ]
  },
  {
   "cell_type": "markdown",
   "metadata": {},
   "source": [
    "#### Read in Dataset"
   ]
  },
  {
   "cell_type": "code",
   "execution_count": 2,
   "metadata": {},
   "outputs": [
    {
     "name": "stderr",
     "output_type": "stream",
     "text": [
      "C:\\Users\\sega9\\AppData\\Local\\Temp\\ipykernel_31060\\1578947760.py:1: DtypeWarning: Columns (9) have mixed types. Specify dtype option on import or set low_memory=False.\n",
      "  df = pd.read_csv('C:/Users/sega9/Documents/GA Tech/2024.Spring/CSE 6242/Group Project/ApartmentRent/DataModified/engineered_data.csv',\n"
     ]
    }
   ],
   "source": [
    "df = pd.read_csv('C:/Users/sega9/Documents/GA Tech/2024.Spring/CSE 6242/Group Project/ApartmentRent/DataModified/engineered_data.csv', \n",
    "                 encoding='utf-8')"
   ]
  },
  {
   "cell_type": "code",
   "execution_count": 3,
   "metadata": {},
   "outputs": [],
   "source": [
    "# List of columns to drop\n",
    "columns_to_drop = ['title','body','address','latitude','longitude','geometry']\n",
    "# Drop the specified columns\n",
    "df = df.drop(columns=columns_to_drop)"
   ]
  },
  {
   "cell_type": "markdown",
   "metadata": {},
   "source": [
    "#### Encode Data for Modeling"
   ]
  },
  {
   "cell_type": "code",
   "execution_count": 4,
   "metadata": {},
   "outputs": [],
   "source": [
    "# Columns to be treated as factor\n",
    "cols = [\"bathrooms\", \"bedrooms\", \"fee\", \"has_photo\", \"cityname\", \"state\", \"source\"]\n",
    "df[cols] = df[cols].astype('category')"
   ]
  },
  {
   "cell_type": "code",
   "execution_count": 5,
   "metadata": {},
   "outputs": [
    {
     "name": "stdout",
     "output_type": "stream",
     "text": [
      "(87063, 475)\n",
      "Index(['id', 'price', 'square_feet', 'zipcode', 'POPULATION', 'POP_SQMI',\n",
      "       'SQMI', 'perc_sub25k', 'perc_25-50k', 'perc_50-75k',\n",
      "       ...\n",
      "       'source_RealRentals', 'source_RentDigs.com', 'source_RentFeeder',\n",
      "       'source_RentLingo', 'source_Seattle Rentals', 'source_SpreadMyAd',\n",
      "       'source_Z57', 'source_rentbits', 'source_tenantcloud', 'source_vFlyer'],\n",
      "      dtype='object', length=475)\n",
      "<class 'pandas.core.frame.DataFrame'>\n",
      "RangeIndex: 87063 entries, 0 to 87062\n",
      "Columns: 475 entries, id to source_vFlyer\n",
      "dtypes: float64(11), int64(32), uint8(432)\n",
      "memory usage: 64.4 MB\n",
      "None\n"
     ]
    }
   ],
   "source": [
    "# One-hot encode categorical variables\n",
    "data_encoded = pd.get_dummies(df, columns=cols, drop_first=True)\n",
    "\n",
    "# Display the dimensions, column names, and structure of the DataFrame after encoding\n",
    "print(data_encoded.shape)\n",
    "print(data_encoded.columns)\n",
    "print(data_encoded.info())"
   ]
  },
  {
   "cell_type": "code",
   "execution_count": 6,
   "metadata": {},
   "outputs": [],
   "source": [
    "X = data_encoded.drop(['price'], axis=1)  # 'price' is the dependent variable\n",
    "y = data_encoded['price']\n",
    "\n",
    "# Split the data into training and testing sets\n",
    "X_train, X_test, y_train, y_test = train_test_split(X, y, test_size=0.2, random_state=42)"
   ]
  },
  {
   "cell_type": "markdown",
   "metadata": {},
   "source": [
    "#### Linear Regession"
   ]
  },
  {
   "cell_type": "code",
   "execution_count": 7,
   "metadata": {},
   "outputs": [
    {
     "name": "stdout",
     "output_type": "stream",
     "text": [
      "R-squared: 0.6738011477226288\n"
     ]
    }
   ],
   "source": [
    "# Create and fit the linear regression model\n",
    "lr = LinearRegression()\n",
    "lr.fit(X_train, y_train)\n",
    "\n",
    "# Predict on the test set\n",
    "y_pred = lr.predict(X_test)\n",
    "\n",
    "# Calculate R-squared\n",
    "r_squared = r2_score(y_test, y_pred)\n",
    "print(\"R-squared:\", r_squared)"
   ]
  },
  {
   "cell_type": "markdown",
   "metadata": {},
   "source": [
    "#### XGBoost"
   ]
  },
  {
   "cell_type": "code",
   "execution_count": 8,
   "metadata": {},
   "outputs": [
    {
     "name": "stdout",
     "output_type": "stream",
     "text": [
      "R-squared: 0.7751607278439088\n"
     ]
    }
   ],
   "source": [
    "# Create and fit the XGBoost model\n",
    "xgb_model = xgb.XGBRegressor(objective='reg:squarederror', random_state=42)\n",
    "xgb_model.fit(X_train, y_train)\n",
    "\n",
    "# Predict on the test set\n",
    "y_pred = xgb_model.predict(X_test)\n",
    "\n",
    "# Calculate R-squared\n",
    "r_squared = r2_score(y_test, y_pred)\n",
    "print(\"R-squared:\", r_squared)"
   ]
  },
  {
   "cell_type": "markdown",
   "metadata": {},
   "source": [
    "##### XGBOOST Hyperparam Tuning (GRID)"
   ]
  },
  {
   "cell_type": "code",
   "execution_count": 9,
   "metadata": {},
   "outputs": [],
   "source": [
    "# Define hyperparameters for tuning\n",
    "param_grid = {\n",
    "    'eta': [0.1, 0.25],                     # 'learning_rate' Step size shrinkage used in update to prevent overfitting\n",
    "    'n_estimators': [600],                  # Number of boosting rounds (trees) to be run\n",
    "    'max_depth': [10,15],                   # Maximum depth of a tree\n",
    "    'gamma': [0,1],                         # Minimum loss reduction required to make a further partition on a leaf node\n",
    "    'min_child_weight': [0.5, 2],           # Minimum sum of instance weight (hessian) needed in a child\n",
    "    'subsample': [0.75],                    # Subsample ratio of the training instances\n",
    "    'lambda': [0,1],                        # L2 regularization term on weights\n",
    "    'alpha': [0,1],                         # L1 regularization term on weights\n",
    "}"
   ]
  },
  {
   "cell_type": "code",
   "execution_count": 11,
   "metadata": {},
   "outputs": [
    {
     "name": "stdout",
     "output_type": "stream",
     "text": [
      "R-squared (Loaded Model): 0.8569540299075296\n"
     ]
    }
   ],
   "source": [
    "# Create the XGBoost model with GPU support\n",
    "# xgb_model = xgb.XGBRegressor(objective='reg:squarederror', tree_method='hist', device='cuda', random_state=42, verbosity=2)\n",
    "xgb_model = xgb.XGBRegressor(objective='reg:squarederror', random_state=42, verbosity=2)\n",
    "\n",
    "# Perform grid search\n",
    "grid_search = GridSearchCV(xgb_model, param_grid, cv=5, scoring='r2',verbose=2)\n",
    "grid_search.fit(X_train, y_train)\n",
    "\n",
    "# Get the best parameters\n",
    "best_params = grid_search.best_params_\n",
    "\n",
    "# Train the model with the best parameters\n",
    "# final_model = xgb.XGBRegressor(objective='reg:squarederror', tree_method='hist', device='cuda', **best_params, random_state=42)\n",
    "final_model = xgb.XGBRegressor(objective='reg:squarederror', **best_params, random_state=42)\n",
    "final_model.fit(X_train, y_train)\n",
    "\n",
    "# Save the final model in JSON format\n",
    "final_model.save_model('xgboost_final_model2.json')\n",
    "\n",
    "# Load the saved model in JSON format\n",
    "loaded_model = xgb.XGBRegressor()\n",
    "loaded_model.load_model('xgboost_final_model2.json')\n",
    "\n",
    "# Predict on the test set using the loaded model\n",
    "y_pred_loaded = loaded_model.predict(X_test)\n",
    "\n",
    "# Calculate R-squared using the loaded model\n",
    "r_squared_loaded = r2_score(y_test, y_pred_loaded)\n",
    "print(\"Best Parameters:\", best_params)\n",
    "print(\"R-squared (Loaded Model):\", r_squared_loaded)"
   ]
  },
  {
   "cell_type": "markdown",
   "metadata": {},
   "source": [
    "Best Parameters: {'alpha': 1, 'eta': 0.1, 'gamma': 0, 'lambda': 1, 'max_depth': 10, 'min_child_weight': 0.5, 'n_estimators': 600, 'subsample': 0.75}"
   ]
  },
  {
   "cell_type": "markdown",
   "metadata": {},
   "source": [
    "#### Use Model to Predict Prices"
   ]
  },
  {
   "cell_type": "code",
   "execution_count": 12,
   "metadata": {},
   "outputs": [
    {
     "name": "stdout",
     "output_type": "stream",
     "text": [
      "               id   price  predicted_price  price_delta\n",
      "0      5668640009  2195.0      2159.190186    35.809814\n",
      "1      5668639818  1250.0      1317.267944   -67.267944\n",
      "2      5668639686  1395.0      1580.810547  -185.810547\n",
      "3      5668639659  1600.0      1710.670776  -110.670776\n",
      "4      5668639374   975.0       861.394897   113.605103\n",
      "...           ...     ...              ...          ...\n",
      "87058  5121219946   780.0       806.076233   -26.076233\n",
      "87059  5121219696   813.0       851.545471   -38.545471\n",
      "87060  5121219420  1325.0      1258.522339    66.477661\n",
      "87061  5121218935   931.0       980.949707   -49.949707\n",
      "87062  5121218844  1595.0      1680.164551   -85.164551\n",
      "\n",
      "[87063 rows x 4 columns]\n"
     ]
    }
   ],
   "source": [
    "# Predict on the entire dataset\n",
    "data_encoded['predicted_price'] = loaded_model.predict(X)\n",
    "data_encoded['price_delta'] = data_encoded['price'] - data_encoded['predicted_price']\n",
    "\n",
    "# Display the original dataset with the predicted prices\n",
    "print(data_encoded[['id','price', 'predicted_price','price_delta']])"
   ]
  },
  {
   "cell_type": "code",
   "execution_count": 13,
   "metadata": {},
   "outputs": [
    {
     "data": {
      "text/html": [
       "<div>\n",
       "<style scoped>\n",
       "    .dataframe tbody tr th:only-of-type {\n",
       "        vertical-align: middle;\n",
       "    }\n",
       "\n",
       "    .dataframe tbody tr th {\n",
       "        vertical-align: top;\n",
       "    }\n",
       "\n",
       "    .dataframe thead th {\n",
       "        text-align: right;\n",
       "    }\n",
       "</style>\n",
       "<table border=\"1\" class=\"dataframe\">\n",
       "  <thead>\n",
       "    <tr style=\"text-align: right;\">\n",
       "      <th></th>\n",
       "      <th>id</th>\n",
       "      <th>price</th>\n",
       "      <th>predicted_price</th>\n",
       "      <th>price_delta</th>\n",
       "    </tr>\n",
       "  </thead>\n",
       "  <tbody>\n",
       "    <tr>\n",
       "      <th>0</th>\n",
       "      <td>5668640009</td>\n",
       "      <td>2195.0</td>\n",
       "      <td>2159.190186</td>\n",
       "      <td>35.809814</td>\n",
       "    </tr>\n",
       "    <tr>\n",
       "      <th>1</th>\n",
       "      <td>5668639818</td>\n",
       "      <td>1250.0</td>\n",
       "      <td>1317.267944</td>\n",
       "      <td>-67.267944</td>\n",
       "    </tr>\n",
       "    <tr>\n",
       "      <th>2</th>\n",
       "      <td>5668639686</td>\n",
       "      <td>1395.0</td>\n",
       "      <td>1580.810547</td>\n",
       "      <td>-185.810547</td>\n",
       "    </tr>\n",
       "    <tr>\n",
       "      <th>3</th>\n",
       "      <td>5668639659</td>\n",
       "      <td>1600.0</td>\n",
       "      <td>1710.670776</td>\n",
       "      <td>-110.670776</td>\n",
       "    </tr>\n",
       "    <tr>\n",
       "      <th>4</th>\n",
       "      <td>5668639374</td>\n",
       "      <td>975.0</td>\n",
       "      <td>861.394897</td>\n",
       "      <td>113.605103</td>\n",
       "    </tr>\n",
       "    <tr>\n",
       "      <th>...</th>\n",
       "      <td>...</td>\n",
       "      <td>...</td>\n",
       "      <td>...</td>\n",
       "      <td>...</td>\n",
       "    </tr>\n",
       "    <tr>\n",
       "      <th>87058</th>\n",
       "      <td>5121219946</td>\n",
       "      <td>780.0</td>\n",
       "      <td>806.076233</td>\n",
       "      <td>-26.076233</td>\n",
       "    </tr>\n",
       "    <tr>\n",
       "      <th>87059</th>\n",
       "      <td>5121219696</td>\n",
       "      <td>813.0</td>\n",
       "      <td>851.545471</td>\n",
       "      <td>-38.545471</td>\n",
       "    </tr>\n",
       "    <tr>\n",
       "      <th>87060</th>\n",
       "      <td>5121219420</td>\n",
       "      <td>1325.0</td>\n",
       "      <td>1258.522339</td>\n",
       "      <td>66.477661</td>\n",
       "    </tr>\n",
       "    <tr>\n",
       "      <th>87061</th>\n",
       "      <td>5121218935</td>\n",
       "      <td>931.0</td>\n",
       "      <td>980.949707</td>\n",
       "      <td>-49.949707</td>\n",
       "    </tr>\n",
       "    <tr>\n",
       "      <th>87062</th>\n",
       "      <td>5121218844</td>\n",
       "      <td>1595.0</td>\n",
       "      <td>1680.164551</td>\n",
       "      <td>-85.164551</td>\n",
       "    </tr>\n",
       "  </tbody>\n",
       "</table>\n",
       "<p>87063 rows × 4 columns</p>\n",
       "</div>"
      ],
      "text/plain": [
       "               id   price  predicted_price  price_delta\n",
       "0      5668640009  2195.0      2159.190186    35.809814\n",
       "1      5668639818  1250.0      1317.267944   -67.267944\n",
       "2      5668639686  1395.0      1580.810547  -185.810547\n",
       "3      5668639659  1600.0      1710.670776  -110.670776\n",
       "4      5668639374   975.0       861.394897   113.605103\n",
       "...           ...     ...              ...          ...\n",
       "87058  5121219946   780.0       806.076233   -26.076233\n",
       "87059  5121219696   813.0       851.545471   -38.545471\n",
       "87060  5121219420  1325.0      1258.522339    66.477661\n",
       "87061  5121218935   931.0       980.949707   -49.949707\n",
       "87062  5121218844  1595.0      1680.164551   -85.164551\n",
       "\n",
       "[87063 rows x 4 columns]"
      ]
     },
     "execution_count": 13,
     "metadata": {},
     "output_type": "execute_result"
    }
   ],
   "source": [
    "data_encoded[['id','price', 'predicted_price','price_delta']]"
   ]
  },
  {
   "cell_type": "markdown",
   "metadata": {},
   "source": [
    "#### Add Predicted Prices to Original Dataset"
   ]
  },
  {
   "cell_type": "code",
   "execution_count": 16,
   "metadata": {},
   "outputs": [
    {
     "name": "stderr",
     "output_type": "stream",
     "text": [
      "C:\\Users\\sega9\\AppData\\Local\\Temp\\ipykernel_2440\\1310250981.py:1: DtypeWarning: Columns (9) have mixed types. Specify dtype option on import or set low_memory=False.\n",
      "  df_orig = pd.read_csv('C:/Users/sega9/Documents/GA Tech/2024.Spring/CSE 6242/Group Project/ApartmentRent/DataModified/engineered_data.csv',\n"
     ]
    }
   ],
   "source": [
    "df_orig = pd.read_csv('C:/Users/sega9/Documents/GA Tech/2024.Spring/CSE 6242/Group Project/ApartmentRent/DataModified/engineered_data.csv', \n",
    "                 encoding='utf-8')\n",
    "\n",
    "final = df_orig.merge(data_encoded[['id','predicted_price','price_delta']], on='id', how='left')"
   ]
  },
  {
   "cell_type": "code",
   "execution_count": 17,
   "metadata": {},
   "outputs": [],
   "source": [
    "final.to_csv('C:/Users/sega9/Documents/GA Tech/2024.Spring/CSE 6242/Group Project/ApartmentRent/DataModified/predicted_data.csv', encoding='utf-8',index= False)\n"
   ]
  }
 ],
 "metadata": {
  "kernelspec": {
   "display_name": "base",
   "language": "python",
   "name": "python3"
  },
  "language_info": {
   "codemirror_mode": {
    "name": "ipython",
    "version": 3
   },
   "file_extension": ".py",
   "mimetype": "text/x-python",
   "name": "python",
   "nbconvert_exporter": "python",
   "pygments_lexer": "ipython3",
   "version": "3.11.4"
  }
 },
 "nbformat": 4,
 "nbformat_minor": 2
}
