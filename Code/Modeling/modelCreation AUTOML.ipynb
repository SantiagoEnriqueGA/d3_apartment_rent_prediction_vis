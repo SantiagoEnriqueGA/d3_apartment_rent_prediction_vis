{
 "cells": [
  {
   "cell_type": "code",
   "execution_count": 1,
   "metadata": {},
   "outputs": [],
   "source": [
    "import pandas as pd\n",
    "import numpy as np\n",
    "from sklearn.linear_model import LinearRegression\n",
    "from sklearn.experimental import enable_halving_search_cv\n",
    "from sklearn.model_selection import train_test_split, GridSearchCV, RandomizedSearchCV, HalvingGridSearchCV\n",
    "from sklearn.metrics import r2_score, mean_absolute_error, median_absolute_error, mean_squared_error\n",
    "import xgboost as xgb\n",
    "from scipy.stats import uniform, randint\n"
   ]
  },
  {
   "cell_type": "code",
   "execution_count": 2,
   "metadata": {},
   "outputs": [],
   "source": [
    "import h2o\n",
    "from h2o.automl import H2OAutoML"
   ]
  },
  {
   "cell_type": "markdown",
   "metadata": {},
   "source": [
    "#### Read in Dataset"
   ]
  },
  {
   "cell_type": "code",
   "execution_count": 3,
   "metadata": {},
   "outputs": [
    {
     "name": "stderr",
     "output_type": "stream",
     "text": [
      "C:\\Users\\sega9\\AppData\\Local\\Temp\\ipykernel_7412\\1272201554.py:1: DtypeWarning: Columns (9) have mixed types. Specify dtype option on import or set low_memory=False.\n",
      "  df = pd.read_csv('C:/Users/sega9/Documents/GA Tech/2024.Spring/CSE 6242/Group Project/ApartmentRent/DataModified/feature_engineered_data.csv',\n"
     ]
    }
   ],
   "source": [
    "df = pd.read_csv('C:/Users/sega9/Documents/GA Tech/2024.Spring/CSE 6242/Group Project/ApartmentRent/DataModified/feature_engineered_data.csv', \n",
    "                 encoding='utf-8')"
   ]
  },
  {
   "cell_type": "code",
   "execution_count": 4,
   "metadata": {},
   "outputs": [],
   "source": [
    "# List of columns to drop\n",
    "columns_to_drop = ['title','body','address','latitude','longitude','geometry']\n",
    "# Drop the specified columns\n",
    "df = df.drop(columns=columns_to_drop)"
   ]
  },
  {
   "cell_type": "markdown",
   "metadata": {},
   "source": [
    "#### Encode Data for Modeling"
   ]
  },
  {
   "cell_type": "code",
   "execution_count": 5,
   "metadata": {},
   "outputs": [],
   "source": [
    "# Columns to be treated as factor\n",
    "cols = [\"bathrooms\", \"bedrooms\", \"fee\", \"has_photo\", \"cityname\", \"state\", \"source\"]\n",
    "df[cols] = df[cols].astype('category')"
   ]
  },
  {
   "cell_type": "code",
   "execution_count": 6,
   "metadata": {},
   "outputs": [
    {
     "name": "stdout",
     "output_type": "stream",
     "text": [
      "(87063, 475)\n",
      "Index(['id', 'price', 'square_feet', 'zipcode', 'POPULATION', 'POP_SQMI',\n",
      "       'SQMI', 'perc_sub25k', 'perc_25-50k', 'perc_50-75k',\n",
      "       ...\n",
      "       'source_RealRentals', 'source_RentDigs.com', 'source_RentFeeder',\n",
      "       'source_RentLingo', 'source_Seattle Rentals', 'source_SpreadMyAd',\n",
      "       'source_Z57', 'source_rentbits', 'source_tenantcloud', 'source_vFlyer'],\n",
      "      dtype='object', length=475)\n",
      "<class 'pandas.core.frame.DataFrame'>\n",
      "RangeIndex: 87063 entries, 0 to 87062\n",
      "Columns: 475 entries, id to source_vFlyer\n",
      "dtypes: float64(11), int64(32), uint8(432)\n",
      "memory usage: 64.4 MB\n",
      "None\n"
     ]
    }
   ],
   "source": [
    "# One-hot encode categorical variables\n",
    "data_encoded = pd.get_dummies(df, columns=cols, drop_first=True)\n",
    "\n",
    "# Display the dimensions, column names, and structure of the DataFrame after encoding\n",
    "print(data_encoded.shape)\n",
    "print(data_encoded.columns)\n",
    "print(data_encoded.info())"
   ]
  },
  {
   "cell_type": "code",
   "execution_count": 11,
   "metadata": {},
   "outputs": [],
   "source": [
    "X = data_encoded.drop(['price'], axis=1)  # 'price' is the dependent variable\n",
    "y = data_encoded['price']\n",
    "\n",
    "# Split the data into training and testing sets\n",
    "X_train, X_test, y_train, y_test = train_test_split(X, y, test_size=0.2, random_state=42)\n"
   ]
  },
  {
   "cell_type": "code",
   "execution_count": 32,
   "metadata": {},
   "outputs": [],
   "source": [
    "# Select ratio\n",
    "ratio = 0.80\n",
    " \n",
    "total_rows = data_encoded.shape[0]\n",
    "train_size = int(total_rows*ratio)\n",
    " \n",
    "# Split data into test and train\n",
    "train = df[0:train_size]\n",
    "test = df[train_size:]\n",
    "\n",
    "\n",
    "train.to_csv('C:/Users/sega9/Documents/GA Tech/2024.Spring/CSE 6242/Group Project/ApartmentRent/DataModified/train.csv', encoding='utf-8',index= False)\n",
    "test.to_csv('C:/Users/sega9/Documents/GA Tech/2024.Spring/CSE 6242/Group Project/ApartmentRent/DataModified/test.csv', encoding='utf-8',index= False)\n"
   ]
  },
  {
   "cell_type": "markdown",
   "metadata": {},
   "source": [
    "### AutoML"
   ]
  },
  {
   "cell_type": "code",
   "execution_count": 35,
   "metadata": {},
   "outputs": [
    {
     "name": "stdout",
     "output_type": "stream",
     "text": [
      "Parse progress: |████████████████████████████████████████████████████████████████| (done) 100%\n",
      "Parse progress: |████████████████████████████████████████████████████████████████| (done) 100%\n"
     ]
    }
   ],
   "source": [
    "train = h2o.import_file('C:/Users/sega9/Documents/GA Tech/2024.Spring/CSE 6242/Group Project/ApartmentRent/DataModified/train.csv')\n",
    "test = h2o.import_file('C:/Users/sega9/Documents/GA Tech/2024.Spring/CSE 6242/Group Project/ApartmentRent/DataModified/test.csv')\n"
   ]
  },
  {
   "cell_type": "code",
   "execution_count": 8,
   "metadata": {},
   "outputs": [
    {
     "name": "stdout",
     "output_type": "stream",
     "text": [
      "Checking whether there is an H2O instance running at http://localhost:54321..... not found.\n",
      "Attempting to start a local H2O server...\n",
      "; Java HotSpot(TM) 64-Bit Server VM (build 25.333-b02, mixed mode)\n",
      "  Starting server from C:\\Users\\sega9\\anaconda3\\Lib\\site-packages\\h2o\\backend\\bin\\h2o.jar\n",
      "  Ice root: C:\\Users\\sega9\\AppData\\Local\\Temp\\tmp27vavsd8\n",
      "  JVM stdout: C:\\Users\\sega9\\AppData\\Local\\Temp\\tmp27vavsd8\\h2o_sega9_started_from_python.out\n",
      "  JVM stderr: C:\\Users\\sega9\\AppData\\Local\\Temp\\tmp27vavsd8\\h2o_sega9_started_from_python.err\n",
      "  Server is running at http://127.0.0.1:54321\n",
      "Connecting to H2O server at http://127.0.0.1:54321 ... successful.\n"
     ]
    },
    {
     "data": {
      "text/html": [
       "\n",
       "<style>\n",
       "\n",
       "#h2o-table-1.h2o-container {\n",
       "  overflow-x: auto;\n",
       "}\n",
       "#h2o-table-1 .h2o-table {\n",
       "  /* width: 100%; */\n",
       "  margin-top: 1em;\n",
       "  margin-bottom: 1em;\n",
       "}\n",
       "#h2o-table-1 .h2o-table caption {\n",
       "  white-space: nowrap;\n",
       "  caption-side: top;\n",
       "  text-align: left;\n",
       "  /* margin-left: 1em; */\n",
       "  margin: 0;\n",
       "  font-size: larger;\n",
       "}\n",
       "#h2o-table-1 .h2o-table thead {\n",
       "  white-space: nowrap; \n",
       "  position: sticky;\n",
       "  top: 0;\n",
       "  box-shadow: 0 -1px inset;\n",
       "}\n",
       "#h2o-table-1 .h2o-table tbody {\n",
       "  overflow: auto;\n",
       "}\n",
       "#h2o-table-1 .h2o-table th,\n",
       "#h2o-table-1 .h2o-table td {\n",
       "  text-align: right;\n",
       "  /* border: 1px solid; */\n",
       "}\n",
       "#h2o-table-1 .h2o-table tr:nth-child(even) {\n",
       "  /* background: #F5F5F5 */\n",
       "}\n",
       "\n",
       "</style>      \n",
       "<div id=\"h2o-table-1\" class=\"h2o-container\">\n",
       "  <table class=\"h2o-table\">\n",
       "    <caption></caption>\n",
       "    <thead></thead>\n",
       "    <tbody><tr><td>H2O_cluster_uptime:</td>\n",
       "<td>03 secs</td></tr>\n",
       "<tr><td>H2O_cluster_timezone:</td>\n",
       "<td>America/Chicago</td></tr>\n",
       "<tr><td>H2O_data_parsing_timezone:</td>\n",
       "<td>UTC</td></tr>\n",
       "<tr><td>H2O_cluster_version:</td>\n",
       "<td>3.44.0.3</td></tr>\n",
       "<tr><td>H2O_cluster_version_age:</td>\n",
       "<td>2 months and 12 days</td></tr>\n",
       "<tr><td>H2O_cluster_name:</td>\n",
       "<td>H2O_from_python_sega9_1r6c1e</td></tr>\n",
       "<tr><td>H2O_cluster_total_nodes:</td>\n",
       "<td>1</td></tr>\n",
       "<tr><td>H2O_cluster_free_memory:</td>\n",
       "<td>3.420 Gb</td></tr>\n",
       "<tr><td>H2O_cluster_total_cores:</td>\n",
       "<td>16</td></tr>\n",
       "<tr><td>H2O_cluster_allowed_cores:</td>\n",
       "<td>16</td></tr>\n",
       "<tr><td>H2O_cluster_status:</td>\n",
       "<td>locked, healthy</td></tr>\n",
       "<tr><td>H2O_connection_url:</td>\n",
       "<td>http://127.0.0.1:54321</td></tr>\n",
       "<tr><td>H2O_connection_proxy:</td>\n",
       "<td>{\"http\": null, \"https\": null}</td></tr>\n",
       "<tr><td>H2O_internal_security:</td>\n",
       "<td>False</td></tr>\n",
       "<tr><td>Python_version:</td>\n",
       "<td>3.11.4 final</td></tr></tbody>\n",
       "  </table>\n",
       "</div>\n"
      ],
      "text/plain": [
       "--------------------------  -----------------------------\n",
       "H2O_cluster_uptime:         03 secs\n",
       "H2O_cluster_timezone:       America/Chicago\n",
       "H2O_data_parsing_timezone:  UTC\n",
       "H2O_cluster_version:        3.44.0.3\n",
       "H2O_cluster_version_age:    2 months and 12 days\n",
       "H2O_cluster_name:           H2O_from_python_sega9_1r6c1e\n",
       "H2O_cluster_total_nodes:    1\n",
       "H2O_cluster_free_memory:    3.420 Gb\n",
       "H2O_cluster_total_cores:    16\n",
       "H2O_cluster_allowed_cores:  16\n",
       "H2O_cluster_status:         locked, healthy\n",
       "H2O_connection_url:         http://127.0.0.1:54321\n",
       "H2O_connection_proxy:       {\"http\": null, \"https\": null}\n",
       "H2O_internal_security:      False\n",
       "Python_version:             3.11.4 final\n",
       "--------------------------  -----------------------------"
      ]
     },
     "metadata": {},
     "output_type": "display_data"
    }
   ],
   "source": [
    "h2o.init()\n"
   ]
  },
  {
   "cell_type": "code",
   "execution_count": 36,
   "metadata": {},
   "outputs": [],
   "source": [
    "# Identify predictors and response\n",
    "x = train.columns\n",
    "y = \"price\"\n",
    "x.remove(y)"
   ]
  },
  {
   "cell_type": "code",
   "execution_count": 38,
   "metadata": {},
   "outputs": [
    {
     "name": "stdout",
     "output_type": "stream",
     "text": [
      "AutoML progress: |\n",
      "21:00:15.915: AutoML: XGBoost is not available; skipping it.\n",
      "\n",
      "███████████████████████████████████████████████████████████████| (done) 100%\n"
     ]
    },
    {
     "data": {
      "text/html": [
       "<pre style='margin: 1em 0 1em 0;'>Model Details\n",
       "=============\n",
       "H2OStackedEnsembleEstimator : Stacked Ensemble\n",
       "Model Key: StackedEnsemble_AllModels_1_AutoML_1_20240303_210015\n",
       "</pre>\n",
       "<div style='margin: 1em 0 1em 0;'>\n",
       "<style>\n",
       "\n",
       "#h2o-table-2.h2o-container {\n",
       "  overflow-x: auto;\n",
       "}\n",
       "#h2o-table-2 .h2o-table {\n",
       "  /* width: 100%; */\n",
       "  margin-top: 1em;\n",
       "  margin-bottom: 1em;\n",
       "}\n",
       "#h2o-table-2 .h2o-table caption {\n",
       "  white-space: nowrap;\n",
       "  caption-side: top;\n",
       "  text-align: left;\n",
       "  /* margin-left: 1em; */\n",
       "  margin: 0;\n",
       "  font-size: larger;\n",
       "}\n",
       "#h2o-table-2 .h2o-table thead {\n",
       "  white-space: nowrap; \n",
       "  position: sticky;\n",
       "  top: 0;\n",
       "  box-shadow: 0 -1px inset;\n",
       "}\n",
       "#h2o-table-2 .h2o-table tbody {\n",
       "  overflow: auto;\n",
       "}\n",
       "#h2o-table-2 .h2o-table th,\n",
       "#h2o-table-2 .h2o-table td {\n",
       "  text-align: right;\n",
       "  /* border: 1px solid; */\n",
       "}\n",
       "#h2o-table-2 .h2o-table tr:nth-child(even) {\n",
       "  /* background: #F5F5F5 */\n",
       "}\n",
       "\n",
       "</style>      \n",
       "<div id=\"h2o-table-2\" class=\"h2o-container\">\n",
       "  <table class=\"h2o-table\">\n",
       "    <caption>Model Summary for Stacked Ensemble: </caption>\n",
       "    <thead><tr><th>key</th>\n",
       "<th>value</th></tr></thead>\n",
       "    <tbody><tr><td>Stacking strategy</td>\n",
       "<td>cross_validation</td></tr>\n",
       "<tr><td>Number of base models (used / total)</td>\n",
       "<td>7/20</td></tr>\n",
       "<tr><td># GBM base models (used / total)</td>\n",
       "<td>3/10</td></tr>\n",
       "<tr><td># DRF base models (used / total)</td>\n",
       "<td>1/2</td></tr>\n",
       "<tr><td># DeepLearning base models (used / total)</td>\n",
       "<td>3/7</td></tr>\n",
       "<tr><td># GLM base models (used / total)</td>\n",
       "<td>0/1</td></tr>\n",
       "<tr><td>Metalearner algorithm</td>\n",
       "<td>GLM</td></tr>\n",
       "<tr><td>Metalearner fold assignment scheme</td>\n",
       "<td>Random</td></tr>\n",
       "<tr><td>Metalearner nfolds</td>\n",
       "<td>5</td></tr>\n",
       "<tr><td>Metalearner fold_column</td>\n",
       "<td>None</td></tr>\n",
       "<tr><td>Custom metalearner hyperparameters</td>\n",
       "<td>None</td></tr></tbody>\n",
       "  </table>\n",
       "</div>\n",
       "</div>\n",
       "<div style='margin: 1em 0 1em 0;'><pre style='margin: 1em 0 1em 0;'>ModelMetricsRegressionGLM: stackedensemble\n",
       "** Reported on train data. **\n",
       "\n",
       "MSE: 63928.45324124887\n",
       "RMSE: 252.8407665730526\n",
       "MAE: 97.84764552563043\n",
       "RMSLE: 0.09143373432447206\n",
       "Mean Residual Deviance: 63928.45324124887\n",
       "R^2: 0.9310904138896632\n",
       "Null degrees of freedom: 9890\n",
       "Residual degrees of freedom: 9883\n",
       "Null deviance: 9176728963.751957\n",
       "Residual deviance: 632316331.0091926\n",
       "AIC: 137536.4985925926</pre></div>\n",
       "<div style='margin: 1em 0 1em 0;'><pre style='margin: 1em 0 1em 0;'>ModelMetricsRegressionGLM: stackedensemble\n",
       "** Reported on cross-validation data. **\n",
       "\n",
       "MSE: 174400.7072508849\n",
       "RMSE: 417.61310713492327\n",
       "MAE: 151.96496877270047\n",
       "RMSLE: 0.14481440194296447\n",
       "Mean Residual Deviance: 174400.7072508849\n",
       "R^2: 0.7878846294334241\n",
       "Null degrees of freedom: 69649\n",
       "Residual degrees of freedom: 69643\n",
       "Null deviance: 57267461392.25717\n",
       "Residual deviance: 12147009260.024134\n",
       "AIC: 1038287.7080844361</pre></div>\n",
       "<div style='margin: 1em 0 1em 0;'>\n",
       "<style>\n",
       "\n",
       "#h2o-table-3.h2o-container {\n",
       "  overflow-x: auto;\n",
       "}\n",
       "#h2o-table-3 .h2o-table {\n",
       "  /* width: 100%; */\n",
       "  margin-top: 1em;\n",
       "  margin-bottom: 1em;\n",
       "}\n",
       "#h2o-table-3 .h2o-table caption {\n",
       "  white-space: nowrap;\n",
       "  caption-side: top;\n",
       "  text-align: left;\n",
       "  /* margin-left: 1em; */\n",
       "  margin: 0;\n",
       "  font-size: larger;\n",
       "}\n",
       "#h2o-table-3 .h2o-table thead {\n",
       "  white-space: nowrap; \n",
       "  position: sticky;\n",
       "  top: 0;\n",
       "  box-shadow: 0 -1px inset;\n",
       "}\n",
       "#h2o-table-3 .h2o-table tbody {\n",
       "  overflow: auto;\n",
       "}\n",
       "#h2o-table-3 .h2o-table th,\n",
       "#h2o-table-3 .h2o-table td {\n",
       "  text-align: right;\n",
       "  /* border: 1px solid; */\n",
       "}\n",
       "#h2o-table-3 .h2o-table tr:nth-child(even) {\n",
       "  /* background: #F5F5F5 */\n",
       "}\n",
       "\n",
       "</style>      \n",
       "<div id=\"h2o-table-3\" class=\"h2o-container\">\n",
       "  <table class=\"h2o-table\">\n",
       "    <caption>Cross-Validation Metrics Summary: </caption>\n",
       "    <thead><tr><th></th>\n",
       "<th>mean</th>\n",
       "<th>sd</th>\n",
       "<th>cv_1_valid</th>\n",
       "<th>cv_2_valid</th>\n",
       "<th>cv_3_valid</th>\n",
       "<th>cv_4_valid</th>\n",
       "<th>cv_5_valid</th></tr></thead>\n",
       "    <tbody><tr><td>mae</td>\n",
       "<td>151.90361</td>\n",
       "<td>2.9632587</td>\n",
       "<td>155.02072</td>\n",
       "<td>149.23622</td>\n",
       "<td>154.57811</td>\n",
       "<td>152.11053</td>\n",
       "<td>148.57248</td></tr>\n",
       "<tr><td>mean_residual_deviance</td>\n",
       "<td>174200.9</td>\n",
       "<td>91609.69</td>\n",
       "<td>336922.78</td>\n",
       "<td>124141.3360000</td>\n",
       "<td>138106.19</td>\n",
       "<td>122672.35</td>\n",
       "<td>149161.9</td></tr>\n",
       "<tr><td>mse</td>\n",
       "<td>174200.9</td>\n",
       "<td>91609.69</td>\n",
       "<td>336922.78</td>\n",
       "<td>124141.3360000</td>\n",
       "<td>138106.19</td>\n",
       "<td>122672.35</td>\n",
       "<td>149161.9</td></tr>\n",
       "<tr><td>null_deviance</td>\n",
       "<td>11453492200.0000000</td>\n",
       "<td>1111277060.0000000</td>\n",
       "<td>12841115600.0000000</td>\n",
       "<td>11694736400.0000000</td>\n",
       "<td>10256983000.0000000</td>\n",
       "<td>12083169300.0000000</td>\n",
       "<td>10391456800.0000000</td></tr>\n",
       "<tr><td>r2</td>\n",
       "<td>0.7914293</td>\n",
       "<td>0.0915717</td>\n",
       "<td>0.6340848</td>\n",
       "<td>0.8518676</td>\n",
       "<td>0.8113874</td>\n",
       "<td>0.8596739</td>\n",
       "<td>0.8001329</td></tr>\n",
       "<tr><td>residual_deviance</td>\n",
       "<td>2427509250.0000000</td>\n",
       "<td>1279055740.0000000</td>\n",
       "<td>4698724900.0000000</td>\n",
       "<td>1732019840.0000000</td>\n",
       "<td>1934591490.0000000</td>\n",
       "<td>1695577220.0000000</td>\n",
       "<td>2076632060.0000000</td></tr>\n",
       "<tr><td>rmse</td>\n",
       "<td>408.17496</td>\n",
       "<td>97.43015</td>\n",
       "<td>580.4505</td>\n",
       "<td>352.33698</td>\n",
       "<td>371.6264</td>\n",
       "<td>350.24612</td>\n",
       "<td>386.21484</td></tr>\n",
       "<tr><td>rmsle</td>\n",
       "<td>0.1447209</td>\n",
       "<td>0.0030623</td>\n",
       "<td>0.1490465</td>\n",
       "<td>0.1416214</td>\n",
       "<td>0.1463386</td>\n",
       "<td>0.1444238</td>\n",
       "<td>0.1421740</td></tr></tbody>\n",
       "  </table>\n",
       "</div>\n",
       "</div><pre style=\"font-size: smaller; margin: 1em 0 0 0;\">\n",
       "\n",
       "[tips]\n",
       "Use `model.explain()` to inspect the model.\n",
       "--\n",
       "Use `h2o.display.toggle_user_tips()` to switch on/off this section.</pre>"
      ],
      "text/plain": [
       "Model Details\n",
       "=============\n",
       "H2OStackedEnsembleEstimator : Stacked Ensemble\n",
       "Model Key: StackedEnsemble_AllModels_1_AutoML_1_20240303_210015\n",
       "\n",
       "\n",
       "Model Summary for Stacked Ensemble: \n",
       "key                                        value\n",
       "-----------------------------------------  ----------------\n",
       "Stacking strategy                          cross_validation\n",
       "Number of base models (used / total)       7/20\n",
       "# GBM base models (used / total)           3/10\n",
       "# DRF base models (used / total)           1/2\n",
       "# DeepLearning base models (used / total)  3/7\n",
       "# GLM base models (used / total)           0/1\n",
       "Metalearner algorithm                      GLM\n",
       "Metalearner fold assignment scheme         Random\n",
       "Metalearner nfolds                         5\n",
       "Metalearner fold_column\n",
       "Custom metalearner hyperparameters         None\n",
       "\n",
       "ModelMetricsRegressionGLM: stackedensemble\n",
       "** Reported on train data. **\n",
       "\n",
       "MSE: 63928.45324124887\n",
       "RMSE: 252.8407665730526\n",
       "MAE: 97.84764552563043\n",
       "RMSLE: 0.09143373432447206\n",
       "Mean Residual Deviance: 63928.45324124887\n",
       "R^2: 0.9310904138896632\n",
       "Null degrees of freedom: 9890\n",
       "Residual degrees of freedom: 9883\n",
       "Null deviance: 9176728963.751957\n",
       "Residual deviance: 632316331.0091926\n",
       "AIC: 137536.4985925926\n",
       "\n",
       "ModelMetricsRegressionGLM: stackedensemble\n",
       "** Reported on cross-validation data. **\n",
       "\n",
       "MSE: 174400.7072508849\n",
       "RMSE: 417.61310713492327\n",
       "MAE: 151.96496877270047\n",
       "RMSLE: 0.14481440194296447\n",
       "Mean Residual Deviance: 174400.7072508849\n",
       "R^2: 0.7878846294334241\n",
       "Null degrees of freedom: 69649\n",
       "Residual degrees of freedom: 69643\n",
       "Null deviance: 57267461392.25717\n",
       "Residual deviance: 12147009260.024134\n",
       "AIC: 1038287.7080844361\n",
       "\n",
       "Cross-Validation Metrics Summary: \n",
       "                        mean         sd           cv_1_valid    cv_2_valid    cv_3_valid    cv_4_valid    cv_5_valid\n",
       "----------------------  -----------  -----------  ------------  ------------  ------------  ------------  ------------\n",
       "mae                     151.904      2.96326      155.021       149.236       154.578       152.111       148.572\n",
       "mean_residual_deviance  174201       91609.7      336923        124141        138106        122672        149162\n",
       "mse                     174201       91609.7      336923        124141        138106        122672        149162\n",
       "null_deviance           1.14535e+10  1.11128e+09  1.28411e+10   1.16947e+10   1.0257e+10    1.20832e+10   1.03915e+10\n",
       "r2                      0.791429     0.0915717    0.634085      0.851868      0.811387      0.859674      0.800133\n",
       "residual_deviance       2.42751e+09  1.27906e+09  4.69872e+09   1.73202e+09   1.93459e+09   1.69558e+09   2.07663e+09\n",
       "rmse                    408.175      97.4301      580.451       352.337       371.626       350.246       386.215\n",
       "rmsle                   0.144721     0.00306227   0.149046      0.141621      0.146339      0.144424      0.142174\n",
       "\n",
       "[tips]\n",
       "Use `model.explain()` to inspect the model.\n",
       "--\n",
       "Use `h2o.display.toggle_user_tips()` to switch on/off this section."
      ]
     },
     "execution_count": 38,
     "metadata": {},
     "output_type": "execute_result"
    }
   ],
   "source": [
    "# Run AutoML for 20 base models\n",
    "aml = H2OAutoML(max_models=20, seed=1)\n",
    "aml.train(x=x, y=y, training_frame=train)"
   ]
  },
  {
   "cell_type": "code",
   "execution_count": 41,
   "metadata": {},
   "outputs": [
    {
     "data": {
      "text/html": [
       "<table class='dataframe'>\n",
       "<thead>\n",
       "<tr><th>model_id                                               </th><th style=\"text-align: right;\">   rmse</th><th style=\"text-align: right;\">   mse</th><th style=\"text-align: right;\">    mae</th><th style=\"text-align: right;\">     rmsle</th><th style=\"text-align: right;\">  mean_residual_deviance</th></tr>\n",
       "</thead>\n",
       "<tbody>\n",
       "<tr><td>StackedEnsemble_AllModels_1_AutoML_1_20240303_210015   </td><td style=\"text-align: right;\">417.613</td><td style=\"text-align: right;\">174401</td><td style=\"text-align: right;\">151.965</td><td style=\"text-align: right;\">  0.144814</td><td style=\"text-align: right;\">                  174401</td></tr>\n",
       "<tr><td>StackedEnsemble_BestOfFamily_1_AutoML_1_20240303_210015</td><td style=\"text-align: right;\">419.05 </td><td style=\"text-align: right;\">175603</td><td style=\"text-align: right;\">149.985</td><td style=\"text-align: right;\">  0.14406 </td><td style=\"text-align: right;\">                  175603</td></tr>\n",
       "<tr><td>DRF_1_AutoML_1_20240303_210015                         </td><td style=\"text-align: right;\">424.171</td><td style=\"text-align: right;\">179921</td><td style=\"text-align: right;\">147.99 </td><td style=\"text-align: right;\">  0.146818</td><td style=\"text-align: right;\">                  179921</td></tr>\n",
       "<tr><td>GBM_grid_1_AutoML_1_20240303_210015_model_1            </td><td style=\"text-align: right;\">435.975</td><td style=\"text-align: right;\">190074</td><td style=\"text-align: right;\">158.185</td><td style=\"text-align: right;\">nan       </td><td style=\"text-align: right;\">                  190074</td></tr>\n",
       "<tr><td>GBM_grid_1_AutoML_1_20240303_210015_model_4            </td><td style=\"text-align: right;\">440.112</td><td style=\"text-align: right;\">193699</td><td style=\"text-align: right;\">158.606</td><td style=\"text-align: right;\">nan       </td><td style=\"text-align: right;\">                  193699</td></tr>\n",
       "<tr><td>GBM_4_AutoML_1_20240303_210015                         </td><td style=\"text-align: right;\">446.934</td><td style=\"text-align: right;\">199750</td><td style=\"text-align: right;\">178.822</td><td style=\"text-align: right;\">nan       </td><td style=\"text-align: right;\">                  199750</td></tr>\n",
       "<tr><td>GBM_3_AutoML_1_20240303_210015                         </td><td style=\"text-align: right;\">449.076</td><td style=\"text-align: right;\">201670</td><td style=\"text-align: right;\">186.981</td><td style=\"text-align: right;\">nan       </td><td style=\"text-align: right;\">                  201670</td></tr>\n",
       "<tr><td>XRT_1_AutoML_1_20240303_210015                         </td><td style=\"text-align: right;\">449.285</td><td style=\"text-align: right;\">201857</td><td style=\"text-align: right;\">190.195</td><td style=\"text-align: right;\">  0.176326</td><td style=\"text-align: right;\">                  201857</td></tr>\n",
       "<tr><td>GBM_5_AutoML_1_20240303_210015                         </td><td style=\"text-align: right;\">449.778</td><td style=\"text-align: right;\">202300</td><td style=\"text-align: right;\">182.289</td><td style=\"text-align: right;\">nan       </td><td style=\"text-align: right;\">                  202300</td></tr>\n",
       "<tr><td>GBM_grid_1_AutoML_1_20240303_210015_model_5            </td><td style=\"text-align: right;\">451.094</td><td style=\"text-align: right;\">203486</td><td style=\"text-align: right;\">158.312</td><td style=\"text-align: right;\">  0.153436</td><td style=\"text-align: right;\">                  203486</td></tr>\n",
       "<tr><td>GBM_1_AutoML_1_20240303_210015                         </td><td style=\"text-align: right;\">457.268</td><td style=\"text-align: right;\">209094</td><td style=\"text-align: right;\">166.544</td><td style=\"text-align: right;\">nan       </td><td style=\"text-align: right;\">                  209094</td></tr>\n",
       "<tr><td>GBM_2_AutoML_1_20240303_210015                         </td><td style=\"text-align: right;\">457.316</td><td style=\"text-align: right;\">209138</td><td style=\"text-align: right;\">190.993</td><td style=\"text-align: right;\">nan       </td><td style=\"text-align: right;\">                  209138</td></tr>\n",
       "<tr><td>GBM_grid_1_AutoML_1_20240303_210015_model_3            </td><td style=\"text-align: right;\">459.78 </td><td style=\"text-align: right;\">211397</td><td style=\"text-align: right;\">201.85 </td><td style=\"text-align: right;\">nan       </td><td style=\"text-align: right;\">                  211397</td></tr>\n",
       "<tr><td>GBM_grid_1_AutoML_1_20240303_210015_model_2            </td><td style=\"text-align: right;\">461.465</td><td style=\"text-align: right;\">212950</td><td style=\"text-align: right;\">198.086</td><td style=\"text-align: right;\">  0.180659</td><td style=\"text-align: right;\">                  212950</td></tr>\n",
       "<tr><td>DeepLearning_grid_1_AutoML_1_20240303_210015_model_1   </td><td style=\"text-align: right;\">470.213</td><td style=\"text-align: right;\">221100</td><td style=\"text-align: right;\">192.127</td><td style=\"text-align: right;\">nan       </td><td style=\"text-align: right;\">                  221100</td></tr>\n",
       "<tr><td>DeepLearning_grid_1_AutoML_1_20240303_210015_model_2   </td><td style=\"text-align: right;\">491.676</td><td style=\"text-align: right;\">241745</td><td style=\"text-align: right;\">219.844</td><td style=\"text-align: right;\">nan       </td><td style=\"text-align: right;\">                  241745</td></tr>\n",
       "<tr><td>DeepLearning_grid_3_AutoML_1_20240303_210015_model_1   </td><td style=\"text-align: right;\">504.569</td><td style=\"text-align: right;\">254590</td><td style=\"text-align: right;\">220.972</td><td style=\"text-align: right;\">nan       </td><td style=\"text-align: right;\">                  254590</td></tr>\n",
       "<tr><td>DeepLearning_grid_2_AutoML_1_20240303_210015_model_1   </td><td style=\"text-align: right;\">506.143</td><td style=\"text-align: right;\">256181</td><td style=\"text-align: right;\">248.754</td><td style=\"text-align: right;\">nan       </td><td style=\"text-align: right;\">                  256181</td></tr>\n",
       "<tr><td>DeepLearning_1_AutoML_1_20240303_210015                </td><td style=\"text-align: right;\">535.03 </td><td style=\"text-align: right;\">286258</td><td style=\"text-align: right;\">232.466</td><td style=\"text-align: right;\">  0.204566</td><td style=\"text-align: right;\">                  286258</td></tr>\n",
       "<tr><td>DeepLearning_grid_2_AutoML_1_20240303_210015_model_2   </td><td style=\"text-align: right;\">564.379</td><td style=\"text-align: right;\">318524</td><td style=\"text-align: right;\">327.452</td><td style=\"text-align: right;\">nan       </td><td style=\"text-align: right;\">                  318524</td></tr>\n",
       "<tr><td>DeepLearning_grid_3_AutoML_1_20240303_210015_model_2   </td><td style=\"text-align: right;\">656.343</td><td style=\"text-align: right;\">430786</td><td style=\"text-align: right;\">365.527</td><td style=\"text-align: right;\">nan       </td><td style=\"text-align: right;\">                  430786</td></tr>\n",
       "<tr><td>GLM_1_AutoML_1_20240303_210015                         </td><td style=\"text-align: right;\">906.686</td><td style=\"text-align: right;\">822080</td><td style=\"text-align: right;\">503.337</td><td style=\"text-align: right;\">  0.439673</td><td style=\"text-align: right;\">                  822080</td></tr>\n",
       "</tbody>\n",
       "</table><pre style='font-size: smaller; margin-bottom: 1em;'>[22 rows x 6 columns]</pre>"
      ],
      "text/plain": [
       "model_id                                                    rmse     mse      mae       rmsle    mean_residual_deviance\n",
       "-------------------------------------------------------  -------  ------  -------  ----------  ------------------------\n",
       "StackedEnsemble_AllModels_1_AutoML_1_20240303_210015     417.613  174401  151.965    0.144814                    174401\n",
       "StackedEnsemble_BestOfFamily_1_AutoML_1_20240303_210015  419.05   175603  149.985    0.14406                     175603\n",
       "DRF_1_AutoML_1_20240303_210015                           424.171  179921  147.99     0.146818                    179921\n",
       "GBM_grid_1_AutoML_1_20240303_210015_model_1              435.975  190074  158.185  nan                           190074\n",
       "GBM_grid_1_AutoML_1_20240303_210015_model_4              440.112  193699  158.606  nan                           193699\n",
       "GBM_4_AutoML_1_20240303_210015                           446.934  199750  178.822  nan                           199750\n",
       "GBM_3_AutoML_1_20240303_210015                           449.076  201670  186.981  nan                           201670\n",
       "XRT_1_AutoML_1_20240303_210015                           449.285  201857  190.195    0.176326                    201857\n",
       "GBM_5_AutoML_1_20240303_210015                           449.778  202300  182.289  nan                           202300\n",
       "GBM_grid_1_AutoML_1_20240303_210015_model_5              451.094  203486  158.312    0.153436                    203486\n",
       "GBM_1_AutoML_1_20240303_210015                           457.268  209094  166.544  nan                           209094\n",
       "GBM_2_AutoML_1_20240303_210015                           457.316  209138  190.993  nan                           209138\n",
       "GBM_grid_1_AutoML_1_20240303_210015_model_3              459.78   211397  201.85   nan                           211397\n",
       "GBM_grid_1_AutoML_1_20240303_210015_model_2              461.465  212950  198.086    0.180659                    212950\n",
       "DeepLearning_grid_1_AutoML_1_20240303_210015_model_1     470.213  221100  192.127  nan                           221100\n",
       "DeepLearning_grid_1_AutoML_1_20240303_210015_model_2     491.676  241745  219.844  nan                           241745\n",
       "DeepLearning_grid_3_AutoML_1_20240303_210015_model_1     504.569  254590  220.972  nan                           254590\n",
       "DeepLearning_grid_2_AutoML_1_20240303_210015_model_1     506.143  256181  248.754  nan                           256181\n",
       "DeepLearning_1_AutoML_1_20240303_210015                  535.03   286258  232.466    0.204566                    286258\n",
       "DeepLearning_grid_2_AutoML_1_20240303_210015_model_2     564.379  318524  327.452  nan                           318524\n",
       "DeepLearning_grid_3_AutoML_1_20240303_210015_model_2     656.343  430786  365.527  nan                           430786\n",
       "GLM_1_AutoML_1_20240303_210015                           906.686  822080  503.337    0.439673                    822080\n",
       "[22 rows x 6 columns]\n"
      ]
     },
     "execution_count": 41,
     "metadata": {},
     "output_type": "execute_result"
    }
   ],
   "source": [
    "# View the AutoML Leaderboard\n",
    "lb = aml.leaderboard\n",
    "lb.head(rows=lb.nrows)  # Print all rows instead of default (10 rows)"
   ]
  },
  {
   "cell_type": "code",
   "execution_count": 42,
   "metadata": {},
   "outputs": [
    {
     "data": {
      "text/html": [
       "<table class='dataframe'>\n",
       "<thead>\n",
       "<tr><th>model_id                                               </th><th style=\"text-align: right;\">   rmse</th><th style=\"text-align: right;\">   mse</th><th style=\"text-align: right;\">    mae</th><th style=\"text-align: right;\">     rmsle</th><th style=\"text-align: right;\">  mean_residual_deviance</th><th style=\"text-align: right;\">  training_time_ms</th><th style=\"text-align: right;\">  predict_time_per_row_ms</th><th>algo           </th></tr>\n",
       "</thead>\n",
       "<tbody>\n",
       "<tr><td>StackedEnsemble_AllModels_1_AutoML_1_20240303_210015   </td><td style=\"text-align: right;\">417.613</td><td style=\"text-align: right;\">174401</td><td style=\"text-align: right;\">151.965</td><td style=\"text-align: right;\">  0.144814</td><td style=\"text-align: right;\">                  174401</td><td style=\"text-align: right;\">              1704</td><td style=\"text-align: right;\">                 0.042786</td><td>StackedEnsemble</td></tr>\n",
       "<tr><td>StackedEnsemble_BestOfFamily_1_AutoML_1_20240303_210015</td><td style=\"text-align: right;\">419.05 </td><td style=\"text-align: right;\">175603</td><td style=\"text-align: right;\">149.985</td><td style=\"text-align: right;\">  0.14406 </td><td style=\"text-align: right;\">                  175603</td><td style=\"text-align: right;\">              1295</td><td style=\"text-align: right;\">                 0.017969</td><td>StackedEnsemble</td></tr>\n",
       "<tr><td>DRF_1_AutoML_1_20240303_210015                         </td><td style=\"text-align: right;\">424.171</td><td style=\"text-align: right;\">179921</td><td style=\"text-align: right;\">147.99 </td><td style=\"text-align: right;\">  0.146818</td><td style=\"text-align: right;\">                  179921</td><td style=\"text-align: right;\">             24566</td><td style=\"text-align: right;\">                 0.004505</td><td>DRF            </td></tr>\n",
       "<tr><td>GBM_grid_1_AutoML_1_20240303_210015_model_1            </td><td style=\"text-align: right;\">435.975</td><td style=\"text-align: right;\">190074</td><td style=\"text-align: right;\">158.185</td><td style=\"text-align: right;\">nan       </td><td style=\"text-align: right;\">                  190074</td><td style=\"text-align: right;\">              4187</td><td style=\"text-align: right;\">                 0.005103</td><td>GBM            </td></tr>\n",
       "<tr><td>GBM_grid_1_AutoML_1_20240303_210015_model_4            </td><td style=\"text-align: right;\">440.112</td><td style=\"text-align: right;\">193699</td><td style=\"text-align: right;\">158.606</td><td style=\"text-align: right;\">nan       </td><td style=\"text-align: right;\">                  193699</td><td style=\"text-align: right;\">              6389</td><td style=\"text-align: right;\">                 0.010373</td><td>GBM            </td></tr>\n",
       "<tr><td>GBM_4_AutoML_1_20240303_210015                         </td><td style=\"text-align: right;\">446.934</td><td style=\"text-align: right;\">199750</td><td style=\"text-align: right;\">178.822</td><td style=\"text-align: right;\">nan       </td><td style=\"text-align: right;\">                  199750</td><td style=\"text-align: right;\">              2100</td><td style=\"text-align: right;\">                 0.003503</td><td>GBM            </td></tr>\n",
       "<tr><td>GBM_3_AutoML_1_20240303_210015                         </td><td style=\"text-align: right;\">449.076</td><td style=\"text-align: right;\">201670</td><td style=\"text-align: right;\">186.981</td><td style=\"text-align: right;\">nan       </td><td style=\"text-align: right;\">                  201670</td><td style=\"text-align: right;\">              2233</td><td style=\"text-align: right;\">                 0.004792</td><td>GBM            </td></tr>\n",
       "<tr><td>XRT_1_AutoML_1_20240303_210015                         </td><td style=\"text-align: right;\">449.285</td><td style=\"text-align: right;\">201857</td><td style=\"text-align: right;\">190.195</td><td style=\"text-align: right;\">  0.176326</td><td style=\"text-align: right;\">                  201857</td><td style=\"text-align: right;\">             14981</td><td style=\"text-align: right;\">                 0.004851</td><td>DRF            </td></tr>\n",
       "<tr><td>GBM_5_AutoML_1_20240303_210015                         </td><td style=\"text-align: right;\">449.778</td><td style=\"text-align: right;\">202300</td><td style=\"text-align: right;\">182.289</td><td style=\"text-align: right;\">nan       </td><td style=\"text-align: right;\">                  202300</td><td style=\"text-align: right;\">              2328</td><td style=\"text-align: right;\">                 0.004874</td><td>GBM            </td></tr>\n",
       "<tr><td>GBM_grid_1_AutoML_1_20240303_210015_model_5            </td><td style=\"text-align: right;\">451.094</td><td style=\"text-align: right;\">203486</td><td style=\"text-align: right;\">158.312</td><td style=\"text-align: right;\">  0.153436</td><td style=\"text-align: right;\">                  203486</td><td style=\"text-align: right;\">              7774</td><td style=\"text-align: right;\">                 0.005611</td><td>GBM            </td></tr>\n",
       "</tbody>\n",
       "</table><pre style='font-size: smaller; margin-bottom: 1em;'>[22 rows x 9 columns]</pre>"
      ],
      "text/plain": [
       "model_id                                                    rmse     mse      mae       rmsle    mean_residual_deviance    training_time_ms    predict_time_per_row_ms  algo\n",
       "-------------------------------------------------------  -------  ------  -------  ----------  ------------------------  ------------------  -------------------------  ---------------\n",
       "StackedEnsemble_AllModels_1_AutoML_1_20240303_210015     417.613  174401  151.965    0.144814                    174401                1704                   0.042786  StackedEnsemble\n",
       "StackedEnsemble_BestOfFamily_1_AutoML_1_20240303_210015  419.05   175603  149.985    0.14406                     175603                1295                   0.017969  StackedEnsemble\n",
       "DRF_1_AutoML_1_20240303_210015                           424.171  179921  147.99     0.146818                    179921               24566                   0.004505  DRF\n",
       "GBM_grid_1_AutoML_1_20240303_210015_model_1              435.975  190074  158.185  nan                           190074                4187                   0.005103  GBM\n",
       "GBM_grid_1_AutoML_1_20240303_210015_model_4              440.112  193699  158.606  nan                           193699                6389                   0.010373  GBM\n",
       "GBM_4_AutoML_1_20240303_210015                           446.934  199750  178.822  nan                           199750                2100                   0.003503  GBM\n",
       "GBM_3_AutoML_1_20240303_210015                           449.076  201670  186.981  nan                           201670                2233                   0.004792  GBM\n",
       "XRT_1_AutoML_1_20240303_210015                           449.285  201857  190.195    0.176326                    201857               14981                   0.004851  DRF\n",
       "GBM_5_AutoML_1_20240303_210015                           449.778  202300  182.289  nan                           202300                2328                   0.004874  GBM\n",
       "GBM_grid_1_AutoML_1_20240303_210015_model_5              451.094  203486  158.312    0.153436                    203486                7774                   0.005611  GBM\n",
       "[22 rows x 9 columns]\n"
      ]
     },
     "execution_count": 42,
     "metadata": {},
     "output_type": "execute_result"
    }
   ],
   "source": [
    "# Get leaderboard with all possible columns\n",
    "lb = h2o.automl.get_leaderboard(aml, extra_columns = \"ALL\")\n",
    "lb"
   ]
  },
  {
   "cell_type": "code",
   "execution_count": 46,
   "metadata": {},
   "outputs": [
    {
     "data": {
      "text/plain": [
       "dict_keys(['model_id', 'training_frame', 'response_column', 'validation_frame', 'blending_frame', 'base_models', 'metalearner_algorithm', 'metalearner_nfolds', 'metalearner_fold_assignment', 'metalearner_fold_column', 'metalearner_params', 'metalearner_transform', 'max_runtime_secs', 'weights_column', 'offset_column', 'custom_metric_func', 'seed', 'score_training_samples', 'keep_levelone_frame', 'export_checkpoints_dir', 'auc_type', 'gainslift_bins'])"
      ]
     },
     "execution_count": 46,
     "metadata": {},
     "output_type": "execute_result"
    }
   ],
   "source": [
    "m = h2o.get_model(\"StackedEnsemble_AllModels_1_AutoML_1_20240303_210015\")\n",
    "# View the parameters for the XGBoost model selected above\n",
    "m.params.keys()"
   ]
  },
  {
   "cell_type": "code",
   "execution_count": 52,
   "metadata": {},
   "outputs": [
    {
     "name": "stdout",
     "output_type": "stream",
     "text": [
      "C:\\Users\\sega9\\Documents\\GA Tech\\2024.Spring\\CSE 6242\\Group Project\\ApartmentRent\\Code\\h20_model\\StackedEnsemble_AllModels_1_AutoML_1_20240303_210015\n"
     ]
    }
   ],
   "source": [
    "# save the model\n",
    "path=\"C:/Users/sega9/Documents/GA Tech/2024.Spring/CSE 6242/Group Project/ApartmentRent/code/h20_model\"\n",
    "model_path = h2o.save_model(model=m, path=path, force=True)\n",
    "print(model_path)"
   ]
  },
  {
   "cell_type": "code",
   "execution_count": 54,
   "metadata": {},
   "outputs": [],
   "source": [
    "# load the model\n",
    "saved_model = h2o.load_model(model_path)"
   ]
  },
  {
   "cell_type": "code",
   "execution_count": 55,
   "metadata": {},
   "outputs": [
    {
     "ename": "H2OTypeError",
     "evalue": "Argument `filename` should be a string, got H2OStackedEnsembleEstimator Model Details\n=============\nH2OStackedEnsembleEstimator : Stacked Ensemble\nModel Key: StackedEnsemble_AllModels_1_AutoML_1_20240303_210015\n\n\nModel Summary for Stacked Ensemble: \nkey                                        value\n-----------------------------------------  ----------------\nStacking strategy                          cross_validation\nNumber of base models (used / total)       7/20\n# GBM base models (used / total)           3/10\n# DRF base models (used / total)           1/2\n# DeepLearning base models (used / total)  3/7\n# GLM base models (used / total)           0/1\nMetalearner algorithm                      GLM\nMetalearner fold assignment scheme         Random\nMetalearner nfolds                         5\nMetalearner fold_column\nCustom metalearner hyperparameters         None\n\nModelMetricsRegressionGLM: stackedensemble\n** Reported on train data. **\n\nMSE: 63928.45324124887\nRMSE: 252.8407665730526\nMAE: 97.84764552563043\nRMSLE: 0.09143373432447206\nMean Residual Deviance: 63928.45324124887\nR^2: 0.9310904138896632\nNull degrees of freedom: 9890\nResidual degrees of freedom: 9883\nNull deviance: 9176728963.751957\nResidual deviance: 632316331.0091926\nAIC: 137536.4985925926\n\nModelMetricsRegressionGLM: stackedensemble\n** Reported on cross-validation data. **\n\nMSE: 174400.7072508849\nRMSE: 417.61310713492327\nMAE: 151.96496877270047\nRMSLE: 0.14481440194296447\nMean Residual Deviance: 174400.7072508849\nR^2: 0.7878846294334241\nNull degrees of freedom: 69649\nResidual degrees of freedom: 69643\nNull deviance: 57267461392.25717\nResidual deviance: 12147009260.024134\nAIC: 1038287.7080844361\n\nCross-Validation Metrics Summary: \n                        mean         sd           cv_1_valid    cv_2_valid    cv_3_valid    cv_4_valid    cv_5_valid\n----------------------  -----------  -----------  ------------  ------------  ------------  ------------  ------------\nmae                     151.904      2.96326      155.021       149.236       154.578       152.111       148.572\nmean_residual_deviance  174201       91609.7      336923        124141        138106        122672        149162\nmse                     174201       91609.7      336923        124141        138106        122672        149162\nnull_deviance           1.14535e+10  1.11128e+09  1.28411e+10   1.16947e+10   1.0257e+10    1.20832e+10   1.03915e+10\nr2                      0.791429     0.0915717    0.634085      0.851868      0.811387      0.859674      0.800133\nresidual_deviance       2.42751e+09  1.27906e+09  4.69872e+09   1.73202e+09   1.93459e+09   1.69558e+09   2.07663e+09\nrmse                    408.175      97.4301      580.451       352.337       371.626       350.246       386.215\nrmsle                   0.144721     0.00306227   0.149046      0.141621      0.146339      0.144424      0.142174",
     "output_type": "error",
     "traceback": [
      "\u001b[1;31m---------------------------------------------------------------------------\u001b[0m",
      "\u001b[1;31mH2OTypeError\u001b[0m                              Traceback (most recent call last)",
      "Cell \u001b[1;32mIn[55], line 3\u001b[0m\n\u001b[0;32m      1\u001b[0m \u001b[38;5;66;03m# upload the model that you just downloded above\u001b[39;00m\n\u001b[0;32m      2\u001b[0m \u001b[38;5;66;03m# to the H2O cluster\u001b[39;00m\n\u001b[1;32m----> 3\u001b[0m uploaded_model \u001b[38;5;241m=\u001b[39m \u001b[43mh2o\u001b[49m\u001b[38;5;241;43m.\u001b[39;49m\u001b[43mupload_model\u001b[49m\u001b[43m(\u001b[49m\u001b[43msaved_model\u001b[49m\u001b[43m)\u001b[49m\n",
      "File \u001b[1;32mc:\\Users\\sega9\\anaconda3\\Lib\\site-packages\\h2o\\h2o.py:1564\u001b[0m, in \u001b[0;36mupload_model\u001b[1;34m(path)\u001b[0m\n\u001b[0;32m   1555\u001b[0m \u001b[38;5;28;01mdef\u001b[39;00m \u001b[38;5;21mupload_model\u001b[39m(path):\n\u001b[0;32m   1556\u001b[0m \u001b[38;5;250m    \u001b[39m\u001b[38;5;124;03m\"\"\"\u001b[39;00m\n\u001b[0;32m   1557\u001b[0m \u001b[38;5;124;03m    Upload a binary model from the provided local path to the H2O cluster.\u001b[39;00m\n\u001b[0;32m   1558\u001b[0m \u001b[38;5;124;03m    (H2O model can be saved in a binary form either by ``save_model()`` or by ``download_model()`` function.)\u001b[39;00m\n\u001b[1;32m   (...)\u001b[0m\n\u001b[0;32m   1562\u001b[0m \u001b[38;5;124;03m    :returns: a new :class:`H2OEstimator` object.\u001b[39;00m\n\u001b[0;32m   1563\u001b[0m \u001b[38;5;124;03m    \"\"\"\u001b[39;00m\n\u001b[1;32m-> 1564\u001b[0m     response \u001b[38;5;241m=\u001b[39m \u001b[43mapi\u001b[49m\u001b[43m(\u001b[49m\u001b[38;5;124;43m\"\u001b[39;49m\u001b[38;5;124;43mPOST /3/PostFile.bin\u001b[39;49m\u001b[38;5;124;43m\"\u001b[39;49m\u001b[43m,\u001b[49m\u001b[43m \u001b[49m\u001b[43mfilename\u001b[49m\u001b[38;5;241;43m=\u001b[39;49m\u001b[43mpath\u001b[49m\u001b[43m)\u001b[49m\n\u001b[0;32m   1565\u001b[0m     frame_key \u001b[38;5;241m=\u001b[39m response[\u001b[38;5;124m\"\u001b[39m\u001b[38;5;124mdestination_frame\u001b[39m\u001b[38;5;124m\"\u001b[39m]\n\u001b[0;32m   1566\u001b[0m     res \u001b[38;5;241m=\u001b[39m api(\u001b[38;5;124m\"\u001b[39m\u001b[38;5;124mPOST /99/Models.upload.bin/\u001b[39m\u001b[38;5;132;01m%s\u001b[39;00m\u001b[38;5;124m\"\u001b[39m \u001b[38;5;241m%\u001b[39m \u001b[38;5;124m\"\u001b[39m\u001b[38;5;124m\"\u001b[39m, data\u001b[38;5;241m=\u001b[39m{\u001b[38;5;124m\"\u001b[39m\u001b[38;5;124mdir\u001b[39m\u001b[38;5;124m\"\u001b[39m: frame_key})\n",
      "File \u001b[1;32mc:\\Users\\sega9\\anaconda3\\Lib\\site-packages\\h2o\\h2o.py:123\u001b[0m, in \u001b[0;36mapi\u001b[1;34m(endpoint, data, json, filename, save_to)\u001b[0m\n\u001b[0;32m    121\u001b[0m \u001b[38;5;66;03m# type checks are performed in H2OConnection class\u001b[39;00m\n\u001b[0;32m    122\u001b[0m _check_connection()\n\u001b[1;32m--> 123\u001b[0m \u001b[38;5;28;01mreturn\u001b[39;00m \u001b[43mh2oconn\u001b[49m\u001b[38;5;241;43m.\u001b[39;49m\u001b[43mrequest\u001b[49m\u001b[43m(\u001b[49m\u001b[43mendpoint\u001b[49m\u001b[43m,\u001b[49m\u001b[43m \u001b[49m\u001b[43mdata\u001b[49m\u001b[38;5;241;43m=\u001b[39;49m\u001b[43mdata\u001b[49m\u001b[43m,\u001b[49m\u001b[43m \u001b[49m\u001b[43mjson\u001b[49m\u001b[38;5;241;43m=\u001b[39;49m\u001b[43mjson\u001b[49m\u001b[43m,\u001b[49m\u001b[43m \u001b[49m\u001b[43mfilename\u001b[49m\u001b[38;5;241;43m=\u001b[39;49m\u001b[43mfilename\u001b[49m\u001b[43m,\u001b[49m\u001b[43m \u001b[49m\u001b[43msave_to\u001b[49m\u001b[38;5;241;43m=\u001b[39;49m\u001b[43msave_to\u001b[49m\u001b[43m)\u001b[49m\n",
      "File \u001b[1;32mc:\\Users\\sega9\\anaconda3\\Lib\\site-packages\\h2o\\backend\\connection.py:462\u001b[0m, in \u001b[0;36mH2OConnection.request\u001b[1;34m(self, endpoint, data, json, filename, save_to)\u001b[0m\n\u001b[0;32m    460\u001b[0m \u001b[38;5;66;03m# Prepare data\u001b[39;00m\n\u001b[0;32m    461\u001b[0m \u001b[38;5;28;01mif\u001b[39;00m filename \u001b[38;5;129;01mis\u001b[39;00m \u001b[38;5;129;01mnot\u001b[39;00m \u001b[38;5;28;01mNone\u001b[39;00m:\n\u001b[1;32m--> 462\u001b[0m     \u001b[43massert_is_type\u001b[49m\u001b[43m(\u001b[49m\u001b[43mfilename\u001b[49m\u001b[43m,\u001b[49m\u001b[43m \u001b[49m\u001b[38;5;28;43mstr\u001b[39;49m\u001b[43m)\u001b[49m\n\u001b[0;32m    463\u001b[0m     assert_is_type(json, \u001b[38;5;28;01mNone\u001b[39;00m, \u001b[38;5;124m\"\u001b[39m\u001b[38;5;124mArgument `json` should be None when `filename` is used.\u001b[39m\u001b[38;5;124m\"\u001b[39m)\n\u001b[0;32m    464\u001b[0m     assert_is_type(data, \u001b[38;5;28;01mNone\u001b[39;00m, \u001b[38;5;124m\"\u001b[39m\u001b[38;5;124mArgument `data` should be None when `filename` is used.\u001b[39m\u001b[38;5;124m\"\u001b[39m)\n",
      "File \u001b[1;32mc:\\Users\\sega9\\anaconda3\\Lib\\site-packages\\h2o\\utils\\typechecks.py:444\u001b[0m, in \u001b[0;36massert_is_type\u001b[1;34m(var, *types, **kwargs)\u001b[0m\n\u001b[0;32m    442\u001b[0m etn \u001b[38;5;241m=\u001b[39m _get_type_name(expected_type, dump\u001b[38;5;241m=\u001b[39m\u001b[38;5;124m\"\u001b[39m\u001b[38;5;124m, \u001b[39m\u001b[38;5;124m\"\u001b[39m\u001b[38;5;241m.\u001b[39mjoin(args[\u001b[38;5;241m1\u001b[39m:]))\n\u001b[0;32m    443\u001b[0m vtn \u001b[38;5;241m=\u001b[39m _get_type_name(\u001b[38;5;28mtype\u001b[39m(var))\n\u001b[1;32m--> 444\u001b[0m \u001b[38;5;28;01mraise\u001b[39;00m H2OTypeError(var_name\u001b[38;5;241m=\u001b[39mvname, var_value\u001b[38;5;241m=\u001b[39mvar, var_type_name\u001b[38;5;241m=\u001b[39mvtn, exp_type_name\u001b[38;5;241m=\u001b[39metn, message\u001b[38;5;241m=\u001b[39mmessage,\n\u001b[0;32m    445\u001b[0m                    skip_frames\u001b[38;5;241m=\u001b[39mskip_frames)\n",
      "\u001b[1;31mH2OTypeError\u001b[0m: Argument `filename` should be a string, got H2OStackedEnsembleEstimator Model Details\n=============\nH2OStackedEnsembleEstimator : Stacked Ensemble\nModel Key: StackedEnsemble_AllModels_1_AutoML_1_20240303_210015\n\n\nModel Summary for Stacked Ensemble: \nkey                                        value\n-----------------------------------------  ----------------\nStacking strategy                          cross_validation\nNumber of base models (used / total)       7/20\n# GBM base models (used / total)           3/10\n# DRF base models (used / total)           1/2\n# DeepLearning base models (used / total)  3/7\n# GLM base models (used / total)           0/1\nMetalearner algorithm                      GLM\nMetalearner fold assignment scheme         Random\nMetalearner nfolds                         5\nMetalearner fold_column\nCustom metalearner hyperparameters         None\n\nModelMetricsRegressionGLM: stackedensemble\n** Reported on train data. **\n\nMSE: 63928.45324124887\nRMSE: 252.8407665730526\nMAE: 97.84764552563043\nRMSLE: 0.09143373432447206\nMean Residual Deviance: 63928.45324124887\nR^2: 0.9310904138896632\nNull degrees of freedom: 9890\nResidual degrees of freedom: 9883\nNull deviance: 9176728963.751957\nResidual deviance: 632316331.0091926\nAIC: 137536.4985925926\n\nModelMetricsRegressionGLM: stackedensemble\n** Reported on cross-validation data. **\n\nMSE: 174400.7072508849\nRMSE: 417.61310713492327\nMAE: 151.96496877270047\nRMSLE: 0.14481440194296447\nMean Residual Deviance: 174400.7072508849\nR^2: 0.7878846294334241\nNull degrees of freedom: 69649\nResidual degrees of freedom: 69643\nNull deviance: 57267461392.25717\nResidual deviance: 12147009260.024134\nAIC: 1038287.7080844361\n\nCross-Validation Metrics Summary: \n                        mean         sd           cv_1_valid    cv_2_valid    cv_3_valid    cv_4_valid    cv_5_valid\n----------------------  -----------  -----------  ------------  ------------  ------------  ------------  ------------\nmae                     151.904      2.96326      155.021       149.236       154.578       152.111       148.572\nmean_residual_deviance  174201       91609.7      336923        124141        138106        122672        149162\nmse                     174201       91609.7      336923        124141        138106        122672        149162\nnull_deviance           1.14535e+10  1.11128e+09  1.28411e+10   1.16947e+10   1.0257e+10    1.20832e+10   1.03915e+10\nr2                      0.791429     0.0915717    0.634085      0.851868      0.811387      0.859674      0.800133\nresidual_deviance       2.42751e+09  1.27906e+09  4.69872e+09   1.73202e+09   1.93459e+09   1.69558e+09   2.07663e+09\nrmse                    408.175      97.4301      580.451       352.337       371.626       350.246       386.215\nrmsle                   0.144721     0.00306227   0.149046      0.141621      0.146339      0.144424      0.142174"
     ]
    }
   ],
   "source": [
    "# upload the model that you just downloded above\n",
    "# to the H2O cluster\n",
    "uploaded_model = h2o.upload_model(saved_model)"
   ]
  },
  {
   "cell_type": "code",
   "execution_count": null,
   "metadata": {},
   "outputs": [],
   "source": []
  }
 ],
 "metadata": {
  "kernelspec": {
   "display_name": "base",
   "language": "python",
   "name": "python3"
  },
  "language_info": {
   "codemirror_mode": {
    "name": "ipython",
    "version": 3
   },
   "file_extension": ".py",
   "mimetype": "text/x-python",
   "name": "python",
   "nbconvert_exporter": "python",
   "pygments_lexer": "ipython3",
   "version": "3.11.4"
  }
 },
 "nbformat": 4,
 "nbformat_minor": 2
}
