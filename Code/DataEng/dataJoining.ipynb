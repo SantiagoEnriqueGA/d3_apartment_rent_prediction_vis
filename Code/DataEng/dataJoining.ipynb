{
 "cells": [
  {
   "cell_type": "markdown",
   "metadata": {},
   "source": [
    "## This file loads and joins our three datasets together\n",
    "\tZip codes generated on Apt Lat/Long from GIS Zip Data\n",
    "\tApt data joined to IRS data on Zip"
   ]
  },
  {
   "cell_type": "markdown",
   "metadata": {},
   "source": [
    "### Loading libraries"
   ]
  },
  {
   "cell_type": "code",
   "execution_count": null,
   "metadata": {},
   "outputs": [],
   "source": [
    "import pandas as pd\n",
    "import geopy\n",
    "import geopandas"
   ]
  },
  {
   "cell_type": "markdown",
   "metadata": {},
   "source": [
    "### Loading Apt Data"
   ]
  },
  {
   "cell_type": "code",
   "execution_count": null,
   "metadata": {},
   "outputs": [],
   "source": [
    "# reading APT csv file\n",
    "df = pd.read_csv(\"C:/Users/sega9/Documents/GA Tech/2024.Spring/CSE 6242/Group Project/ApartmentRent/DataSource/apartments_for_rent_classified_100K.csv\",sep=\";\", encoding='cp1252')\n",
    "\n",
    "# Drop if no Lat/Long\n",
    "df = df.dropna(subset=['latitude', 'longitude'])\n",
    "\n",
    "df.shape"
   ]
  },
  {
   "cell_type": "markdown",
   "metadata": {},
   "source": [
    "### Generate ZIP Codes from Lat/Long using GeoPandas"
   ]
  },
  {
   "cell_type": "code",
   "execution_count": null,
   "metadata": {},
   "outputs": [],
   "source": [
    "# Encoding/Joining ZIP Codes from Lat/Long\n",
    "gdf = geopandas.GeoDataFrame(\n",
    "    # df, geometry=geopandas.points_from_xy(df.latitude, df.longitude), crs=\"EPSG:4326\"\n",
    "    df, geometry=geopandas.points_from_xy(df.longitude, df.latitude), crs=\"EPSG:4326\"\n",
    ")\n",
    "gdf['geometry'].head()\n",
    "\n",
    "points = geopandas.GeoDataFrame(gdf['geometry'])\n",
    "zipcodes = geopandas.read_file(\"C:/Users/sega9/Documents/GA Tech/2024.Spring/CSE 6242/Group Project/ApartmentRent/DataSource/USA_Zip_Code_Boundaries/v10/zip_poly.gdb\")\n",
    "zip_points = points.sjoin(zipcodes, how='left', )\n",
    "\n",
    "df_wZip = df.join(zip_points)\n",
    "df_wZip.rename(columns={'ZIP_CODE':'zipcode'}, inplace=True)"
   ]
  },
  {
   "cell_type": "markdown",
   "metadata": {},
   "source": [
    "### Loading, Formating, Joining IRS data"
   ]
  },
  {
   "cell_type": "code",
   "execution_count": null,
   "metadata": {},
   "outputs": [],
   "source": [
    "# Join IRS income data\n",
    "irs_data = pd.read_csv(\"C:/Users/sega9/Documents/GA Tech/2024.Spring/CSE 6242/Group Project/ApartmentRent/DataSource/20zpallagi.csv\")\n",
    "\n",
    "irs_data = irs_data[['STATEFIPS', 'STATE', 'zipcode', 'agi_stub', 'N1']] #Relevant cols\n",
    "\n",
    "zip_sum = irs_data.groupby('zipcode')['N1'].sum().reset_index(name='num_returns') # Get count of returns by zip code\n",
    "\n",
    "irs_data = pd.merge(irs_data, zip_sum, on='zipcode', how='left') # Left join back to data\n",
    "\n",
    "irs_data['agi_stub_perc'] = irs_data['N1'] / irs_data['num_returns'] # Calculate percentage per range\n",
    "\n",
    "irs_data_agg = irs_data.groupby(['zipcode', 'agi_stub'])['agi_stub_perc'].mean().reset_index()\n",
    "reshaped = irs_data_agg.pivot(index='zipcode', columns='agi_stub', values='agi_stub_perc').reset_index()\n",
    "reshaped.rename({\n",
    "    1 :\"perc_sub25k\",\n",
    "    2 :\"perc_25-50k\",\n",
    "    3 :\"perc_50-75k\",\n",
    "    4 :\"perc_75-100k\",\n",
    "    5 :\"perc_100-200k\",\n",
    "    6 :\"perc_abv200k\"\n",
    "    }, axis='columns', inplace=True)\n",
    "\n",
    "df_wZip['zipcode'] = df_wZip['zipcode'].astype(str)\n",
    "reshaped['zipcode'] = reshaped['zipcode'].astype(str)\n",
    "merged_data = pd.merge(df_wZip, reshaped, on='zipcode', how='left')"
   ]
  },
  {
   "cell_type": "markdown",
   "metadata": {},
   "source": [
    "### Saving Dataset"
   ]
  },
  {
   "cell_type": "code",
   "execution_count": null,
   "metadata": {},
   "outputs": [],
   "source": [
    "# Save dataset\n",
    "merged_data.to_csv('C:/Users/sega9/Documents/GA Tech/2024.Spring/CSE 6242/Group Project/ApartmentRent/DataModified/merged_data.csv', encoding='utf-8')"
   ]
  }
 ],
 "metadata": {
  "kernelspec": {
   "display_name": "base",
   "language": "python",
   "name": "python3"
  },
  "language_info": {
   "name": "python",
   "version": "3.11.4"
  }
 },
 "nbformat": 4,
 "nbformat_minor": 2
}
